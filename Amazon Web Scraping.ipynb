{
 "cells": [
  {
   "cell_type": "code",
   "execution_count": 1,
   "id": "1b8497f0",
   "metadata": {},
   "outputs": [],
   "source": [
    "#importing libraries\n",
    "import requests\n",
    "from bs4 import BeautifulSoup\n",
    "import datetime\n",
    "import datetime\n",
    "import smtplib\n",
    "import time"
   ]
  },
  {
   "cell_type": "code",
   "execution_count": 2,
   "id": "190f87b4",
   "metadata": {},
   "outputs": [
    {
     "name": "stdout",
     "output_type": "stream",
     "text": [
      "\n",
      "            I survived another meeting... should have been an email - Funny coffee mug by Donbicentenario - 11OZ Ceramic - Best gift or souvenir. SHIPS FROM USA\n",
      "           \n",
      "\n",
      "                    AED 18.99\n",
      "                   \n"
     ]
    }
   ],
   "source": [
    "#Connecting to website\n",
    "URL='https://www.amazon.ae/survived-another-meeting-should-email/dp/B01NCTTSS6/ref=sr_1_34?crid=1UXCNQGDJCH9J&keywords=data+analyst+tshirt&qid=1667656834&qu=eyJxc2MiOiIxLjUxIiwicXNhIjoiMC4wMCIsInFzcCI6IjAuMDAifQ%3D%3D&sprefix=data+analyst+tsh%2Caps%2C595&sr=8-34'\n",
    "headers = {\"User-Agent\": \"Mozilla/5.0 (Windows NT 10.0; Win64; x64) AppleWebKit/537.36 (KHTML, like Gecko) Chrome/78.0.3904.108 Safari/537.36\", \"Accept-Encoding\":\"gzip, deflate\", \"Accept\":\"text/html,application/xhtml+xml,application/xml;q=0.9,*/*;q=0.8\", \"DNT\":\"1\",\"Connection\":\"close\", \"Upgrade-Insecure-Requests\":\"1\"}\n",
    "page=requests.get(URL,headers=headers)\n",
    "Soup1=BeautifulSoup(page.content,\"html.parser\")\n",
    "soup2=BeautifulSoup(Soup1.prettify(),'html.parser')\n",
    "title=soup2.find(id='productTitle').get_text()\n",
    "price=soup2.find(id='mbc-price-1').get_text()\n",
    "print(title)\n",
    "print(price)\n",
    "\n"
   ]
  },
  {
   "cell_type": "code",
   "execution_count": 3,
   "id": "f48a9083",
   "metadata": {},
   "outputs": [
    {
     "data": {
      "text/plain": [
       "'18.99'"
      ]
     },
     "execution_count": 3,
     "metadata": {},
     "output_type": "execute_result"
    }
   ],
   "source": [
    "#cleaning up the data we have\n",
    "price=price.strip()[4:]\n",
    "price"
   ]
  },
  {
   "cell_type": "code",
   "execution_count": 4,
   "id": "c71a4e38",
   "metadata": {},
   "outputs": [
    {
     "data": {
      "text/plain": [
       "' Funny coffee mug by Donbicentena'"
      ]
     },
     "execution_count": 4,
     "metadata": {},
     "output_type": "execute_result"
    }
   ],
   "source": [
    "title=title.strip()[57:90]\n",
    "title"
   ]
  },
  {
   "cell_type": "code",
   "execution_count": 5,
   "id": "6e6eff0d",
   "metadata": {},
   "outputs": [
    {
     "name": "stdout",
     "output_type": "stream",
     "text": [
      "2022-11-07\n"
     ]
    }
   ],
   "source": [
    "#creating a datestamp for when we're collecting this data\n",
    "today=datetime.date.today()\n",
    "print(today)"
   ]
  },
  {
   "cell_type": "code",
   "execution_count": 6,
   "id": "4857a33a",
   "metadata": {},
   "outputs": [],
   "source": [
    "#creating a cvs dataset\n",
    "import csv\n",
    "header=['Title','Price','Date']\n",
    "data=[title,price,today]\n",
    "type(data)\n",
    "with open('AmazonWebscraperdataset.csv','w',newline='',encoding='UTF8') as f:\n",
    "    writer=csv.writer(f)\n",
    "    writer.writerow(header)\n",
    "    writer.writerow(data)"
   ]
  },
  {
   "cell_type": "code",
   "execution_count": 7,
   "id": "5512a525",
   "metadata": {},
   "outputs": [
    {
     "data": {
      "text/html": [
       "<div>\n",
       "<style scoped>\n",
       "    .dataframe tbody tr th:only-of-type {\n",
       "        vertical-align: middle;\n",
       "    }\n",
       "\n",
       "    .dataframe tbody tr th {\n",
       "        vertical-align: top;\n",
       "    }\n",
       "\n",
       "    .dataframe thead th {\n",
       "        text-align: right;\n",
       "    }\n",
       "</style>\n",
       "<table border=\"1\" class=\"dataframe\">\n",
       "  <thead>\n",
       "    <tr style=\"text-align: right;\">\n",
       "      <th></th>\n",
       "      <th>Title</th>\n",
       "      <th>Price</th>\n",
       "      <th>Date</th>\n",
       "    </tr>\n",
       "  </thead>\n",
       "  <tbody>\n",
       "    <tr>\n",
       "      <th>0</th>\n",
       "      <td>Funny coffee mug by Donbicentena</td>\n",
       "      <td>18.99</td>\n",
       "      <td>2022-11-07</td>\n",
       "    </tr>\n",
       "  </tbody>\n",
       "</table>\n",
       "</div>"
      ],
      "text/plain": [
       "                               Title  Price        Date\n",
       "0   Funny coffee mug by Donbicentena  18.99  2022-11-07"
      ]
     },
     "execution_count": 7,
     "metadata": {},
     "output_type": "execute_result"
    }
   ],
   "source": [
    "#reading the data as a df\n",
    "import pandas as pd\n",
    "df=pd.read_csv(r'C:\\Users\\LENOVO\\AmazonWebscraperdataset.csv')\n",
    "df"
   ]
  },
  {
   "cell_type": "code",
   "execution_count": 8,
   "id": "ff40cd52",
   "metadata": {},
   "outputs": [],
   "source": [
    "#appending data to the csv\n",
    "\n",
    "with open('AmazonWebscraperdataset.csv','a+',newline='',encoding='UTF8') as f:\n",
    "    writer=csv.writer(f)\n",
    "    writer.writerow(data)"
   ]
  },
  {
   "cell_type": "code",
   "execution_count": 9,
   "id": "c9f42c08",
   "metadata": {},
   "outputs": [],
   "source": [
    "#automating the process\n",
    "def check_price():\n",
    "    URL='https://www.amazon.ae/survived-another-meeting-should-email/dp/B01NCTTSS6/ref=sr_1_34?crid=1UXCNQGDJCH9J&keywords=data+analyst+tshirt&qid=1667656834&qu=eyJxc2MiOiIxLjUxIiwicXNhIjoiMC4wMCIsInFzcCI6IjAuMDAifQ%3D%3D&sprefix=data+analyst+tsh%2Caps%2C595&sr=8-34'\n",
    "    headers={\"User-Agent\": \"Mozilla/5.0 (Windows NT 10.0; Win64; x64) AppleWebKit/537.36 (KHTML, like Gecko) Chrome/78.0.3904.108 Safari/537.36\", \"Accept-Encoding\":\"gzip, deflate\", \"Accept\":\"text/html,application/xhtml+xml,application/xml;q=0.9,*/*;q=0.8\", \"DNT\":\"1\",\"Connection\":\"close\", \"Upgrade-Insecure-Requests\":\"1\"}\n",
    "    page=requests.get(URL,headers=headers)\n",
    "    Soup1=BeautifulSoup(page.content,\"html.parser\")\n",
    "    soup2=BeautifulSoup(Soup1.prettify(),'html.parser')\n",
    "    title=soup2.find(id='productTitle').get_text()\n",
    "    price=soup2.find(id='mbc-price-1').get_text()\n",
    "    price=price.strip()[4:]\n",
    "    title=title.strip()[57:90]\n",
    "    today=datetime.date.today()\n",
    "    import csv\n",
    "    header=['Title','Price','Date']\n",
    "    data=[title,price,today]\n",
    "    with open('AmazonWebscraperdataset.csv','a+',newline='',encoding='UTF8') as f:\n",
    "        writer=csv.writer(f)\n",
    "        writer.writerow(data)"
   ]
  },
  {
   "cell_type": "code",
   "execution_count": null,
   "id": "256399df",
   "metadata": {},
   "outputs": [],
   "source": [
    "#run check_price after a certain period of time\n",
    "while(True):\n",
    "    check_price()\n",
    "    time.sleep(86400)"
   ]
  },
  {
   "cell_type": "code",
   "execution_count": null,
   "id": "1c203a03",
   "metadata": {},
   "outputs": [],
   "source": [
    "df=pd.read_csv(r'C:\\Users\\LENOVO\\AmazonWebscraperdataset.csv')\n",
    "df"
   ]
  },
  {
   "cell_type": "code",
   "execution_count": null,
   "id": "1606a6d0",
   "metadata": {},
   "outputs": [],
   "source": []
  }
 ],
 "metadata": {
  "kernelspec": {
   "display_name": "Python 3 (ipykernel)",
   "language": "python",
   "name": "python3"
  },
  "language_info": {
   "codemirror_mode": {
    "name": "ipython",
    "version": 3
   },
   "file_extension": ".py",
   "mimetype": "text/x-python",
   "name": "python",
   "nbconvert_exporter": "python",
   "pygments_lexer": "ipython3",
   "version": "3.9.12"
  }
 },
 "nbformat": 4,
 "nbformat_minor": 5
}
